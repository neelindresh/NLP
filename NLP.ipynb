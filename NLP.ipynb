{
 "cells": [
  {
   "cell_type": "code",
   "execution_count": 1,
   "id": "8cea245e",
   "metadata": {},
   "outputs": [],
   "source": [
    "from summa import summarizer\n",
    "from summa import keywords"
   ]
  },
  {
   "cell_type": "code",
   "execution_count": 84,
   "id": "e82b0ad3",
   "metadata": {},
   "outputs": [],
   "source": [
    "text=\"“Borrowing” means (a) Revolving Loans of the same Type and currency, made, converted or continued on the same date and, in the case of Eurocurrency Loans, CDOR Rate Loans or EURIBOR Loans, as to which a single Interest Period is in effect or (b) a Swingline Loan.\"\n",
    "text1=\"whether such Borrowing is to be an ABR Borrowing, a Eurocurrency Borrowing, a EURIBOR Borrowing, or a CDOR Rate Borrowing, as applicable;\"\n",
    "text2=\" Borrowing request should be addressed to appropriate Applicable Agent. 2 Borrowings may be denominated in US Dollars or an Alternative Currency. Borrowings by Canadian Borrowers must be denominated in US Dollars or Canadian Dollars. 3 The principal amount of any Borrowing must be an integral multiple of the Borrowing Multiple and not less than the Borrowing Minimum. 4 The date of any Borrowing must be a Business Day and (a) in the case of a Eurocurrency Borrowing, CDOR Rate Borrowing or EURIBOR Borrowing, at least the third Business Day after the date of this Borrowing Request, and (b) in the case of an ABR Borrowing, the date of this Borrowing Request.\""
   ]
  },
  {
   "cell_type": "code",
   "execution_count": 85,
   "id": "286a7b65",
   "metadata": {},
   "outputs": [],
   "source": [
    "text=text.replace(\"\\n\",\" \")"
   ]
  },
  {
   "cell_type": "code",
   "execution_count": null,
   "id": "28bab638",
   "metadata": {},
   "outputs": [],
   "source": []
  },
  {
   "cell_type": "code",
   "execution_count": 82,
   "id": "214ccd94",
   "metadata": {},
   "outputs": [
    {
     "data": {
      "text/plain": [
       "''"
      ]
     },
     "execution_count": 82,
     "metadata": {},
     "output_type": "execute_result"
    }
   ],
   "source": [
    "summarizer.summarize(text,ratio=0.9)"
   ]
  },
  {
   "cell_type": "code",
   "execution_count": 176,
   "id": "b1bd1d8c",
   "metadata": {},
   "outputs": [
    {
     "name": "stdout",
     "output_type": "stream",
     "text": [
      "borrowing means\n",
      "loans\n",
      "loan\n",
      "revolving\n",
      "euribor\n",
      "swingline\n",
      "eurocurrency\n",
      "cdor\n"
     ]
    }
   ],
   "source": [
    "kw=keywords.keywords(text,ratio=0.9)\n",
    "for i in kw.split(\"\\n\"):\n",
    "    print(i)"
   ]
  },
  {
   "cell_type": "code",
   "execution_count": 86,
   "id": "7ad5d9d7",
   "metadata": {},
   "outputs": [
    {
     "data": {
      "text/plain": [
       "'“Borrowing” means (a) Revolving Loans of the same Type and currency, made, converted or continued on the same date and, in the case of Eurocurrency Loans, CDOR Rate Loans or EURIBOR Loans, as to which a single Interest Period is in effect or (b) a Swingline Loan.'"
      ]
     },
     "execution_count": 86,
     "metadata": {},
     "output_type": "execute_result"
    }
   ],
   "source": [
    "text"
   ]
  },
  {
   "cell_type": "code",
   "execution_count": 87,
   "id": "1dd3308c",
   "metadata": {},
   "outputs": [],
   "source": [
    "import re\n",
    "from nltk.corpus import stopwords"
   ]
  },
  {
   "cell_type": "code",
   "execution_count": 166,
   "id": "5ceb4842",
   "metadata": {},
   "outputs": [],
   "source": [
    "stopwords_list=stopwords.words('english')\n",
    "def sort_dict(dict_with_val):\n",
    "    return sorted(dict_with_val.items(), key=lambda x: x[1], reverse=True)\n",
    "def count_vectorizer(text_arr,weighted=True):\n",
    "    freq={}\n",
    "    max_freq=0\n",
    "    for sent in text_arr:\n",
    "        if len(sent.split())<=1:\n",
    "            continue\n",
    "        for words in sent.split():\n",
    "            if words in stopwords_list:\n",
    "                continue\n",
    "            else:\n",
    "                if words in freq:\n",
    "\n",
    "                    freq[words]+=1\n",
    "                else:\n",
    "                    freq[words]=1\n",
    "                if freq[words]>max_freq:\n",
    "                    max_freq=freq[words]\n",
    "    if weighted:\n",
    "        freq={i:freq[i]/max_freq for i in freq}\n",
    "    return freq\n",
    "def get_score(freq,text_arr):\n",
    "    score_dict={}\n",
    "    for sent in text_arr:\n",
    "        score=0\n",
    "        words=0\n",
    "        for word in sent.split():\n",
    "            if word in freq:\n",
    "                score+=freq[word]\n",
    "                words+=1\n",
    "        if words>0:\n",
    "            score_dict[sent]=score/words\n",
    "    return score_dict\n",
    "def text_processing(text,separator=False):\n",
    "    replace_char=['”',\"`\"]\n",
    "    \n",
    "    for i in replace_char:\n",
    "        text=text.replace(i,\"\")\n",
    "    text=re.sub(\"[^A-Za-z ]\",\"<br>\",text)\n",
    "    if separator:\n",
    "        return text\n",
    "    text_arr=text.split(\"<br>\")\n",
    "    \n",
    "    text_arr=[i.strip().lower() for i in text_arr if len(i.strip())>3]\n",
    "    return text_arr\n",
    "def freq_summazier(text,top=5):\n",
    "    text_arr=text_processing(text)\n",
    "    freq=count_vectorizer(text_arr)\n",
    "    score_dict=get_score(freq,text_arr)\n",
    "    score_dict=sort_dict(score_dict)\n",
    "    #print(score_dict[:top])\n",
    "    return [i[0] for i in score_dict[:top]]"
   ]
  },
  {
   "cell_type": "code",
   "execution_count": 167,
   "id": "d09737df",
   "metadata": {},
   "outputs": [
    {
     "data": {
      "text/plain": [
       "['cdor rate loans or euribor loans',\n",
       " 'in the case of eurocurrency loans',\n",
       " 'revolving loans of the same type and currency',\n",
       " 'borrowing means',\n",
       " 'converted or continued on the same date and']"
      ]
     },
     "execution_count": 167,
     "metadata": {},
     "output_type": "execute_result"
    }
   ],
   "source": [
    "freq_summazier(text)"
   ]
  },
  {
   "cell_type": "code",
   "execution_count": 108,
   "id": "98b04ef1",
   "metadata": {},
   "outputs": [],
   "source": [
    "from nltk.cluster.util import cosine_distance\n",
    "import pandas as pd\n",
    "import numpy as np\n",
    "import networkx as nx"
   ]
  },
  {
   "cell_type": "code",
   "execution_count": 168,
   "id": "f7ebe449",
   "metadata": {},
   "outputs": [],
   "source": [
    "def _vectorize(sent,max_len):\n",
    "    all_words=sent.split()\n",
    "    vector=[0] * max_len\n",
    "    for w in all_words:\n",
    "        if w in stopwords_list:\n",
    "            continue\n",
    "        vector[all_words.index(w)] += 1\n",
    "    return vector\n",
    "def _similarity_matrix(vector_space):\n",
    "    matrix=[]\n",
    "    for i in vector_space:\n",
    "        vector_similarity=[]\n",
    "        for j in vector_space:\n",
    "            #print(i,j,cosine_distance(i,j))\n",
    "            vector_similarity.append(1-cosine_distance(i,j))\n",
    "        matrix.append(vector_similarity)\n",
    "    return matrix\n",
    "def page_rank(similarity_matrix):\n",
    "    nx_graph = nx.from_numpy_array(np.array(similarity_matrix))\n",
    "    scores = nx.pagerank(nx_graph)\n",
    "    return scores\n",
    "def textRank(sent):\n",
    "    text_arr=text_processing(sent)\n",
    "    vector_space=[]\n",
    "    max_len=max([len(sent.split()) for sent in text_arr ])\n",
    "    for sent in text_arr:\n",
    "        vector_space.append(_vectorize(sent,max_len=max_len))\n",
    "    similarity_matrix=_similarity_matrix(vector_space)\n",
    "    scores=page_rank(similarity_matrix)\n",
    "    sent_score={i:scores[idx] for idx,i in enumerate(text_arr)}\n",
    "    score_dict=sort_dict(sent_score)\n",
    "\n",
    "    return score_dict"
   ]
  },
  {
   "cell_type": "code",
   "execution_count": 169,
   "id": "f2935c26",
   "metadata": {},
   "outputs": [
    {
     "data": {
      "text/plain": [
       "[('the date of any borrowing must be a business day and', 0.10705547632228526),\n",
       " ('borrowings may be denominated in us dollars or an alternative currency',\n",
       "  0.10426551634560821),\n",
       " ('the principal amount of any borrowing must be an integral multiple of the borrowing multiple and not less than the borrowing minimum',\n",
       "  0.10344470400293228),\n",
       " ('the date of this borrowing request', 0.10295042251343602),\n",
       " ('in the case of a eurocurrency borrowing', 0.10166993922026026),\n",
       " ('in the case of an abr borrowing', 0.10166993922026024),\n",
       " ('borrowings by canadian borrowers must be denominated in us dollars or canadian dollars',\n",
       "  0.09841237387609286),\n",
       " ('at least the third business day after the date of this borrowing request',\n",
       "  0.09409936571855615),\n",
       " ('cdor rate borrowing or euribor borrowing', 0.09364945581050019),\n",
       " ('borrowing request should be addressed to appropriate applicable agent',\n",
       "  0.09278280697006862)]"
      ]
     },
     "execution_count": 169,
     "metadata": {},
     "output_type": "execute_result"
    }
   ],
   "source": [
    "textRank(text2)"
   ]
  },
  {
   "cell_type": "code",
   "execution_count": 111,
   "id": "5f94bc68",
   "metadata": {},
   "outputs": [
    {
     "data": {
      "text/plain": [
       "{0: 0.13247615705577656,\n",
       " 1: 0.13136116783000956,\n",
       " 2: 0.11225903134770922,\n",
       " 3: 0.13708671374825437,\n",
       " 4: 0.11847398791237398,\n",
       " 5: 0.15539974830061665,\n",
       " 6: 0.09175459614920446,\n",
       " 7: 0.12118859765605493}"
      ]
     },
     "execution_count": 111,
     "metadata": {},
     "output_type": "execute_result"
    }
   ],
   "source": [
    "scores"
   ]
  },
  {
   "cell_type": "code",
   "execution_count": 184,
   "id": "35f07dc1",
   "metadata": {},
   "outputs": [],
   "source": [
    "def degree(text_arr):\n",
    "    deg={}\n",
    "    for sent in text_arr:\n",
    "        word_array=[word for word in sent.split() if word not in stopwords_list]\n",
    "        if len(word_array)<=1:\n",
    "            continue\n",
    "        for words in word_array:\n",
    "            if words in deg:\n",
    "                deg[words]+=len(word_array)\n",
    "            else:\n",
    "                deg[words]=len(word_array)\n",
    "    return deg     \n",
    "def rake_score(deg,freq):\n",
    "    score={}\n",
    "    for word,degree in deg.items():\n",
    "        score[word]=degree/freq[word]\n",
    "    return score\n",
    "def rake_sent_score(text_arr,score_dict,norm=True):\n",
    "    text_score={}\n",
    "    for sent in text_arr:\n",
    "        sent_score=0\n",
    "        words=sent.split()\n",
    "        for word in words:\n",
    "            if word in score_dict:\n",
    "                sent_score+=score_dict[word]\n",
    "        if norm:\n",
    "            text_score[sent]=sent_score/len(words)\n",
    "        else:\n",
    "            text_score[sent]=sent_score\n",
    "    return text_score\n",
    "def RAKE_SENT(text):\n",
    "    text_arr=text_processing(text)\n",
    "    freq=count_vectorizer(text_arr,weighted=False)\n",
    "    deg=degree(text_arr)\n",
    "    score=rake_score(deg,freq)\n",
    "    score_dict=rake_sent_score(text_arr,score)\n",
    "    score_dict=sort_dict(score_dict)\n",
    "    \n",
    "    return score_dict\n",
    "def RAKE(text):\n",
    "    text_arr=text_processing(text)\n",
    "    freq=count_vectorizer(text_arr,weighted=False)\n",
    "    deg=degree(text_arr)\n",
    "    score=rake_score(deg,freq)\n",
    "    score=sort_dict(score)\n",
    "    return score"
   ]
  },
  {
   "cell_type": "code",
   "execution_count": 185,
   "id": "91eafcc6",
   "metadata": {},
   "outputs": [
    {
     "data": {
      "text/plain": [
       "[('borrowings by canadian borrowers must be denominated in us dollars or canadian dollars',\n",
       "  5.846153846153846),\n",
       " ('borrowings may be denominated in us dollars or an alternative currency',\n",
       "  4.848484848484849),\n",
       " ('the principal amount of any borrowing must be an integral multiple of the borrowing multiple and not less than the borrowing minimum',\n",
       "  4.746556473829201),\n",
       " ('cdor rate borrowing or euribor borrowing', 4.621212121212121),\n",
       " ('borrowing request should be addressed to appropriate applicable agent',\n",
       "  3.9663299663299663),\n",
       " ('at least the third business day after the date of this borrowing request',\n",
       "  3.2843822843822843),\n",
       " ('the date of any borrowing must be a business day and', 2.881542699724518),\n",
       " ('the date of this borrowing request', 2.7828282828282824),\n",
       " ('in the case of a eurocurrency borrowing', 1.7662337662337662),\n",
       " ('in the case of an abr borrowing', 1.7662337662337662)]"
      ]
     },
     "execution_count": 185,
     "metadata": {},
     "output_type": "execute_result"
    }
   ],
   "source": [
    "RAKE_SENT(text2)"
   ]
  },
  {
   "cell_type": "code",
   "execution_count": 177,
   "id": "aac0f2e7",
   "metadata": {},
   "outputs": [
    {
     "data": {
      "text/plain": [
       "[('whether', 4.0),\n",
       " ('abr', 4.0),\n",
       " ('borrowing', 3.0),\n",
       " ('cdor', 3.0),\n",
       " ('rate', 3.0),\n",
       " ('eurocurrency', 2.0),\n",
       " ('euribor', 2.0)]"
      ]
     },
     "execution_count": 177,
     "metadata": {},
     "output_type": "execute_result"
    }
   ],
   "source": [
    "RAKE(text1)"
   ]
  },
  {
   "cell_type": "code",
   "execution_count": null,
   "id": "190f9798",
   "metadata": {},
   "outputs": [],
   "source": []
  }
 ],
 "metadata": {
  "kernelspec": {
   "display_name": "Python 3",
   "language": "python",
   "name": "python3"
  },
  "language_info": {
   "codemirror_mode": {
    "name": "ipython",
    "version": 3
   },
   "file_extension": ".py",
   "mimetype": "text/x-python",
   "name": "python",
   "nbconvert_exporter": "python",
   "pygments_lexer": "ipython3",
   "version": "3.9.4"
  }
 },
 "nbformat": 4,
 "nbformat_minor": 5
}
